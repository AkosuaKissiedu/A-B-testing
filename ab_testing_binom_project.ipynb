{
 "cells": [
  {
   "cell_type": "code",
   "execution_count": 138,
   "metadata": {},
   "outputs": [],
   "source": [
    "import pandas as pd\n",
    "import numpy as np\n",
    "import seaborn as sns\n",
    "import matplotlib.pyplot as plt\n",
    "from scipy.stats import norm, chi2\n",
    "from statsmodels.stats.power import NormalIndPower"
   ]
  },
  {
   "cell_type": "code",
   "execution_count": 139,
   "metadata": {},
   "outputs": [],
   "source": [
    "df = pd.read_csv(\"C:/Users/afari/Desktop/desktop/upskilling 2025/abtesting data/binomial_test_data.csv\")"
   ]
  },
  {
   "cell_type": "code",
   "execution_count": 140,
   "metadata": {},
   "outputs": [
    {
     "name": "stdout",
     "output_type": "stream",
     "text": [
      "<class 'pandas.core.frame.DataFrame'>\n",
      "RangeIndex: 294404 entries, 0 to 294403\n",
      "Data columns (total 5 columns):\n",
      " #   Column        Non-Null Count   Dtype \n",
      "---  ------        --------------   ----- \n",
      " 0   user_id       294404 non-null  int64 \n",
      " 1   group         294404 non-null  object\n",
      " 2   landing_page  294404 non-null  object\n",
      " 3   converted     294404 non-null  int64 \n",
      " 4   country       294404 non-null  object\n",
      "dtypes: int64(2), object(3)\n",
      "memory usage: 11.2+ MB\n"
     ]
    }
   ],
   "source": [
    "df.info()"
   ]
  },
  {
   "cell_type": "markdown",
   "metadata": {},
   "source": [
    "READ ME\n",
    "Desiging an a/b experiment. In this project we are working retrospetively with data that has already been collected. In the event we needed to design the test from scratch we would need to calculate the optimal sample size which reduces the instances of statistical errors. To find the sample size we would go through the steps below. "
   ]
  },
  {
   "cell_type": "markdown",
   "metadata": {},
   "source": [
    "MDE - Minimum detectable effort; it is a numeric value to represent the smallest amount of change we would call significant between the control and treatment groups. It is usually set by stakeholders based on historic performance"
   ]
  },
  {
   "cell_type": "markdown",
   "metadata": {},
   "source": [
    "Calculate p1 = proportion of successes / total number of events \n",
    "Calculate p2 = p1 + MDE"
   ]
  },
  {
   "cell_type": "markdown",
   "metadata": {},
   "source": [
    "Effort Size: Calculate with Cohens H\n",
    "Alpha value: 0.05\n",
    "Power Threshold(1 - Beta): 80%"
   ]
  },
  {
   "cell_type": "markdown",
   "metadata": {},
   "source": [
    "#### Calculating proprtions of conversions within each group"
   ]
  },
  {
   "cell_type": "code",
   "execution_count": 104,
   "metadata": {},
   "outputs": [
    {
     "name": "stdout",
     "output_type": "stream",
     "text": [
      "Total coverted from control is: 60804\n",
      "Total coverted from treatment is: 17506\n"
     ]
    }
   ],
   "source": [
    "# counting the number of people who converted from the control \n",
    "convert_control = df.groupby('group')['converted'].sum().loc['control']\n",
    "print(\"Total coverted from control is:\", convert_control)\n",
    "# counting the number of people who converted from the experiment \n",
    "convert_treatment = df.groupby('group')['converted'].sum().loc['treatment']\n",
    "print(\"Total coverted from treatment is:\", convert_treatment)"
   ]
  },
  {
   "cell_type": "code",
   "execution_count": 105,
   "metadata": {},
   "outputs": [
    {
     "name": "stdout",
     "output_type": "stream",
     "text": [
      "Total number of control is: 147202\n",
      "Total number of treatment is: 147202\n"
     ]
    }
   ],
   "source": [
    "# count the total number of people in the control group\n",
    "control_total = df['group'].value_counts().loc['control']\n",
    "print(\"Total number of control is:\", control_total)\n",
    "# count the total number of people in the treatment group\n",
    "treatment_total = df['group'].value_counts().loc['treatment']\n",
    "print(\"Total number of treatment is:\", treatment_total)"
   ]
  },
  {
   "cell_type": "code",
   "execution_count": 106,
   "metadata": {},
   "outputs": [
    {
     "name": "stdout",
     "output_type": "stream",
     "text": [
      "Total proportion of control is: 0.4130650398771756\n",
      "Total proportion of treaatment is: 0.46306503987717557\n"
     ]
    }
   ],
   "source": [
    "# calculate the proportion of people in the control group that converted \n",
    "prop_control_convert = convert_control/control_total\n",
    "print(\"Total proportion of control is:\", prop_control_convert)\n",
    "# calculate the proportion of people in the treatment group that converted \n",
    "mde = 0.05\n",
    "prop_treatment_convert = prop_control_convert + mde\n",
    "print(\"Total proportion of treaatment is:\", prop_treatment_convert)\n"
   ]
  },
  {
   "cell_type": "markdown",
   "metadata": {},
   "source": [
    "#### Calculating effect size (ie, the magnitude of the difference between the 2 groups)"
   ]
  },
  {
   "cell_type": "code",
   "execution_count": 107,
   "metadata": {},
   "outputs": [],
   "source": [
    "# calculate cohens h\n",
    "def cohens_h(control, treatment):\n",
    "    return 2 * (np.arcsin(np.sqrt(treatment))) - 2*(np.arcsin(np.sqrt(control)))"
   ]
  },
  {
   "cell_type": "code",
   "execution_count": 108,
   "metadata": {},
   "outputs": [
    {
     "name": "stdout",
     "output_type": "stream",
     "text": [
      "Cohen's h: 0.10082082543466142\n"
     ]
    }
   ],
   "source": [
    "effect_size = cohens_h(prop_control_convert, prop_treatment_convert)\n",
    "print(\"Cohen's h:\", effect_size)"
   ]
  },
  {
   "cell_type": "markdown",
   "metadata": {},
   "source": [
    "#### Calculating the sample size"
   ]
  },
  {
   "cell_type": "code",
   "execution_count": 109,
   "metadata": {},
   "outputs": [],
   "source": [
    "# Calculate optiml sample size with power\n",
    "alpha = 0.05\n",
    "power = 0.8\n",
    "effect_size = effect_size"
   ]
  },
  {
   "cell_type": "code",
   "execution_count": 110,
   "metadata": {},
   "outputs": [],
   "source": [
    "# Create an instance of NormalIndPower\n",
    "power_analysis = NormalIndPower()"
   ]
  },
  {
   "cell_type": "code",
   "execution_count": 111,
   "metadata": {},
   "outputs": [
    {
     "name": "stdout",
     "output_type": "stream",
     "text": [
      "Sample size needed per group: 1544\n"
     ]
    }
   ],
   "source": [
    "# Calculate smple size\n",
    "sample_size = power_analysis.solve_power(effect_size=effect_size, power=power, alpha=alpha,  ratio=1)\n",
    "print(f\"Sample size needed per group: {sample_size:.0f}\")"
   ]
  },
  {
   "cell_type": "markdown",
   "metadata": {
    "vscode": {
     "languageId": "shellscript"
    }
   },
   "source": [
    "### Exploratory Data Analysis"
   ]
  },
  {
   "cell_type": "code",
   "execution_count": 112,
   "metadata": {},
   "outputs": [
    {
     "name": "stdout",
     "output_type": "stream",
     "text": [
      "Index(['user_id', 'group', 'landing_page', 'converted', 'country'], dtype='object')\n"
     ]
    }
   ],
   "source": [
    "# Check columns in the dataframe\n",
    "print(df.columns)"
   ]
  },
  {
   "cell_type": "code",
   "execution_count": 113,
   "metadata": {},
   "outputs": [
    {
     "name": "stdout",
     "output_type": "stream",
     "text": [
      "<class 'pandas.core.frame.DataFrame'>\n",
      "RangeIndex: 294404 entries, 0 to 294403\n",
      "Data columns (total 5 columns):\n",
      " #   Column        Non-Null Count   Dtype \n",
      "---  ------        --------------   ----- \n",
      " 0   user_id       294404 non-null  int64 \n",
      " 1   group         294404 non-null  object\n",
      " 2   landing_page  294404 non-null  object\n",
      " 3   converted     294404 non-null  int64 \n",
      " 4   country       294404 non-null  object\n",
      "dtypes: int64(2), object(3)\n",
      "memory usage: 11.2+ MB\n",
      "None\n"
     ]
    }
   ],
   "source": [
    "print(df.info())"
   ]
  },
  {
   "cell_type": "code",
   "execution_count": 114,
   "metadata": {},
   "outputs": [
    {
     "name": "stdout",
     "output_type": "stream",
     "text": [
      "user_id         0\n",
      "group           0\n",
      "landing_page    0\n",
      "converted       0\n",
      "country         0\n",
      "dtype: int64\n"
     ]
    }
   ],
   "source": [
    "# Check for nulls\n",
    "print(df.isnull().sum())"
   ]
  },
  {
   "cell_type": "code",
   "execution_count": 115,
   "metadata": {},
   "outputs": [
    {
     "name": "stdout",
     "output_type": "stream",
     "text": [
      "group\n",
      "control      147202\n",
      "treatment    147202\n",
      "Name: count, dtype: int64\n"
     ]
    }
   ],
   "source": [
    "# Check the balance between control and treatment groups\n",
    "print(df['group'].value_counts())"
   ]
  },
  {
   "cell_type": "code",
   "execution_count": 116,
   "metadata": {},
   "outputs": [
    {
     "data": {
      "image/png": "[encoded data removed]",
      "text/plain": [
       "<Figure size 640x480 with 1 Axes>"
      ]
     },
     "metadata": {},
     "output_type": "display_data"
    }
   ],
   "source": [
    "# Visualise groups with a histogram\n",
    "sns.countplot(x='group', hue='group', data=df)\n",
    "plt.xlabel('Control vs Treatment')\n",
    "plt.ylabel('Frequency')\n",
    "plt.title(\"Distribution of Users in Control and Treatment Groups\")\n",
    "plt.show()"
   ]
  },
  {
   "cell_type": "markdown",
   "metadata": {},
   "source": [
    "Takeaways:The dataset has no nulls and the total number of the control group is very close to the treatment group"
   ]
  },
  {
   "cell_type": "markdown",
   "metadata": {},
   "source": [
    "#### Analyze the Target Variable (converted)"
   ]
  },
  {
   "cell_type": "code",
   "execution_count": 117,
   "metadata": {},
   "outputs": [
    {
     "name": "stdout",
     "output_type": "stream",
     "text": [
      "Overall conversion rate: 0.2659950272414777\n"
     ]
    }
   ],
   "source": [
    "# Calculate the total proportion of users who converted.\n",
    "overall_conversion_rate = df['converted'].mean()\n",
    "print(\"Overall conversion rate:\", overall_conversion_rate)"
   ]
  },
  {
   "cell_type": "code",
   "execution_count": 118,
   "metadata": {},
   "outputs": [
    {
     "name": "stdout",
     "output_type": "stream",
     "text": [
      "Conversion rates by group:\n",
      " group\n",
      "control      0.413065\n",
      "treatment    0.118925\n",
      "Name: converted, dtype: float64\n"
     ]
    }
   ],
   "source": [
    "# Calculate the proportion of users who converted by group.\n",
    "conversion_rates = df.groupby('group')['converted'].mean()\n",
    "print(\"Conversion rates by group:\\n\", conversion_rates)"
   ]
  },
  {
   "cell_type": "code",
   "execution_count": 119,
   "metadata": {},
   "outputs": [
    {
     "data": {
      "image/png": "[encoded data removed]",
      "text/plain": [
       "<Figure size 640x480 with 1 Axes>"
      ]
     },
     "metadata": {},
     "output_type": "display_data"
    }
   ],
   "source": [
    "# Visualize conversion rates by group:\n",
    "sns.countplot(x='group', hue='converted', data=df)\n",
    "plt.title('Conversion Rates by Group')\n",
    "plt.ylabel('Conversion Rate')\n",
    "plt.show()"
   ]
  },
  {
   "cell_type": "code",
   "execution_count": 120,
   "metadata": {},
   "outputs": [
    {
     "name": "stdout",
     "output_type": "stream",
     "text": [
      "Conversion rates by county:\n",
      " country\n",
      "CA    0.262047\n",
      "UK    0.265576\n",
      "US    0.266425\n",
      "Name: converted, dtype: float64\n"
     ]
    }
   ],
   "source": [
    "# Calculate the number of users who converted by country.\n",
    "conversion_rates = df.groupby('country')['converted'].mean()\n",
    "print(\"Conversion rates by county:\\n\", conversion_rates)"
   ]
  },
  {
   "cell_type": "code",
   "execution_count": 121,
   "metadata": {},
   "outputs": [
    {
     "data": {
      "image/png": "[encoded data removed]",
      "text/plain": [
       "<Figure size 640x480 with 1 Axes>"
      ]
     },
     "metadata": {},
     "output_type": "display_data"
    }
   ],
   "source": [
    "# Visualize conversion rates by country:\n",
    "sns.countplot(x='country', hue='converted', data=df)\n",
    "plt.title('Conversion Rates by Country')\n",
    "plt.ylabel('Conversion Rate')\n",
    "plt.show()"
   ]
  },
  {
   "cell_type": "markdown",
   "metadata": {},
   "source": [
    "Takeaways Overall around 26% of total customers converted. Looking at the 26% as a total of 100% for conversions, around 41% of conversions came from the control group and 11% from the treatement group. Assesing by country the US had the highest number of customers and the highest conversions and Canada had the least number of customers with the lowest conversions"
   ]
  },
  {
   "cell_type": "markdown",
   "metadata": {},
   "source": [
    "### Hypothesis Testing - Z-scores for proportions"
   ]
  },
  {
   "cell_type": "markdown",
   "metadata": {},
   "source": [
    "We want to determine if the difference between the converted and non converted is just due to chance or has some statistical significance."
   ]
  },
  {
   "cell_type": "markdown",
   "metadata": {},
   "source": [
    "Hypothesis\n",
    "Null Hypothesis (H0): The new landing page does not affect customer conversion rates (i.e., conversion rates for the old and new pages are the same).\n",
    "Alternative Hypothesis (H1): The new landing page affects customer conversion rates (i.e., the conversion rates for the old and new pages are different).\n",
    "In this case since the hypothesis doesnt explicitly say greater than or less than we will use the two tailed test"
   ]
  },
  {
   "cell_type": "code",
   "execution_count": 122,
   "metadata": {},
   "outputs": [
    {
     "name": "stdout",
     "output_type": "stream",
     "text": [
      "Grouped table for conversions: \n",
      " converted       0      1\n",
      "group                   \n",
      "control     86398  60804\n",
      "treatment  129696  17506\n"
     ]
    }
   ],
   "source": [
    "# Refresher on converted vs non converted values and thier probabilities \n",
    "converted_non_converted_group = pd.pivot_table (df, index=['group'], columns=['converted'], aggfunc='size')\n",
    "print(f'Grouped table for conversions: \\n {converted_non_converted_group}')"
   ]
  },
  {
   "cell_type": "code",
   "execution_count": 123,
   "metadata": {},
   "outputs": [
    {
     "name": "stdout",
     "output_type": "stream",
     "text": [
      "Total proportion of converted from control is: 0.4130650398771756\n",
      "Total proportion of treatment is: 0.11892501460577981\n"
     ]
    }
   ],
   "source": [
    "# calculate the proportion of people in the control group that converted \n",
    "p_hat_control = convert_control/control_total\n",
    "print(\"Total proportion of converted from control is:\", p_hat_control)\n",
    "\n",
    "p_hat_treatment = convert_treatment/treatment_total\n",
    "print(\"Total proportion of treatment is:\", p_hat_treatment)"
   ]
  },
  {
   "cell_type": "code",
   "execution_count": 124,
   "metadata": {},
   "outputs": [
    {
     "name": "stdout",
     "output_type": "stream",
     "text": [
      "Pooled phats is:\n",
      " {np.float64(0.2659950272414777)}\n"
     ]
    }
   ],
   "source": [
    "pooled_phats = (convert_control+convert_treatment)/(control_total + treatment_total)\n",
    "print(f'Pooled phats is:\\n',{pooled_phats})"
   ]
  },
  {
   "cell_type": "code",
   "execution_count": 125,
   "metadata": {},
   "outputs": [
    {
     "name": "stdout",
     "output_type": "stream",
     "text": [
      "Standard error is:\n",
      " {np.float64(0.0016287123982955084)}\n"
     ]
    }
   ],
   "source": [
    "standard_error = np.sqrt(pooled_phats*(1-pooled_phats)*((1/control_total)+(1/treatment_total)))\n",
    "print(f'Standard error is:\\n',{standard_error})"
   ]
  },
  {
   "cell_type": "markdown",
   "metadata": {},
   "source": [
    "Calculate zscore for proportions"
   ]
  },
  {
   "cell_type": "code",
   "execution_count": 126,
   "metadata": {},
   "outputs": [
    {
     "name": "stdout",
     "output_type": "stream",
     "text": [
      "Z score is:\n",
      " {np.float64(180.59666370761423)}\n"
     ]
    }
   ],
   "source": [
    "z_score = (p_hat_control - p_hat_treatment) / standard_error\n",
    "print(f'Z score is:\\n',{z_score})"
   ]
  },
  {
   "cell_type": "markdown",
   "metadata": {},
   "source": [
    "Calculate pvalue"
   ]
  },
  {
   "cell_type": "code",
   "execution_count": 127,
   "metadata": {},
   "outputs": [
    {
     "name": "stdout",
     "output_type": "stream",
     "text": [
      "Two-Tailed p-Value: 0.0000\n"
     ]
    }
   ],
   "source": [
    "p_value_two_tailed = 2 * (1 - norm.cdf(abs(z_score)))\n",
    "print(f\"Two-Tailed p-Value: {p_value_two_tailed:.4f}\")"
   ]
  },
  {
   "cell_type": "markdown",
   "metadata": {},
   "source": [
    "The calculated p-value is less than the set alpha of 0.05 so we reject the null hypothesis that The new landing page does not affect customer conversion rates"
   ]
  },
  {
   "cell_type": "markdown",
   "metadata": {},
   "source": [
    "### Hypothesis Testing - CHI Square Goodness of fit "
   ]
  },
  {
   "cell_type": "code",
   "execution_count": 128,
   "metadata": {},
   "outputs": [
    {
     "name": "stdout",
     "output_type": "stream",
     "text": [
      "Conversion rate for old page is: 0.413\n"
     ]
    }
   ],
   "source": [
    "# Conversion rate old webpage\n",
    "Conversion_old_page_rate = (convert_control/control_total)\n",
    "print(f\"Conversion rate for old page is: {Conversion_old_page_rate:.3f}\")"
   ]
  },
  {
   "cell_type": "code",
   "execution_count": 129,
   "metadata": {},
   "outputs": [
    {
     "name": "stdout",
     "output_type": "stream",
     "text": [
      "Expected number to convert is: 60804\n"
     ]
    }
   ],
   "source": [
    "# Expected number to convert under from old webpage \n",
    "Conversion_old_page = Conversion_old_page_rate * control_total\n",
    "print(f\"Expected number to convert is: {Conversion_old_page:.0f}\")"
   ]
  },
  {
   "cell_type": "code",
   "execution_count": 130,
   "metadata": {},
   "outputs": [
    {
     "name": "stdout",
     "output_type": "stream",
     "text": [
      "Actual number of people who converted from the old webpage: 60804\n"
     ]
    }
   ],
   "source": [
    "print(f\"Actual number of people who converted from the old webpage: {convert_control}\")"
   ]
  },
  {
   "cell_type": "code",
   "execution_count": 131,
   "metadata": {},
   "outputs": [
    {
     "name": "stdout",
     "output_type": "stream",
     "text": [
      "Expected number to convert is: 60804\n"
     ]
    }
   ],
   "source": [
    "# Expected number to convert under from new webpage if the new \n",
    "# webpage has no influence on conversions \n",
    "Conversion_new_page = Conversion_old_page_rate * treatment_total\n",
    "print(f\"Expected number to convert is: {Conversion_new_page:.0f}\")"
   ]
  },
  {
   "cell_type": "code",
   "execution_count": 132,
   "metadata": {},
   "outputs": [
    {
     "name": "stdout",
     "output_type": "stream",
     "text": [
      "Actual number of people who converted from the new webpage: 17506\n"
     ]
    }
   ],
   "source": [
    "# Actual number of people who converted from the new webpage  conversion rate\n",
    "print(f\"Actual number of people who converted from the new webpage: {convert_treatment}\")"
   ]
  },
  {
   "cell_type": "code",
   "execution_count": 133,
   "metadata": {},
   "outputs": [
    {
     "name": "stdout",
     "output_type": "stream",
     "text": [
      "0.0\n",
      "30832.129530951912\n"
     ]
    }
   ],
   "source": [
    "# Chi Square\n",
    "contol_group = ((convert_control - Conversion_old_page)**2 )/ Conversion_old_page\n",
    "print(f\"{contol_group}\")\n",
    "treatment_group = ((convert_treatment - Conversion_new_page)**2 )/ Conversion_new_page\n",
    "print(f\"{treatment_group}\")"
   ]
  },
  {
   "cell_type": "code",
   "execution_count": 134,
   "metadata": {},
   "outputs": [
    {
     "name": "stdout",
     "output_type": "stream",
     "text": [
      "Sum of Chi-Square Contributions: 30832.129530951912\n"
     ]
    }
   ],
   "source": [
    "# Sum of Chi-Square Contributions\n",
    "x = contol_group + treatment_group\n",
    "print(f\"Sum of Chi-Square Contributions: {x}\")"
   ]
  },
  {
   "cell_type": "code",
   "execution_count": 136,
   "metadata": {},
   "outputs": [
    {
     "name": "stdout",
     "output_type": "stream",
     "text": [
      "Degrees of freedom: 1\n"
     ]
    }
   ],
   "source": [
    "# Degrees of freedom\n",
    "Number_of_groups = len(df['group'].unique())\n",
    "deg_f = Number_of_groups -1\n",
    "print(f\"Degrees of freedom: {deg_f}\") "
   ]
  },
  {
   "cell_type": "code",
   "execution_count": 137,
   "metadata": {},
   "outputs": [
    {
     "name": "stdout",
     "output_type": "stream",
     "text": [
      "P value is: 0.0\n"
     ]
    }
   ],
   "source": [
    "# pvalue \n",
    "p_value = 1 - chi2.cdf(x, deg_f)\n",
    "print(f\"P value is: {p_value}\") "
   ]
  },
  {
   "cell_type": "markdown",
   "metadata": {},
   "source": [
    "The calculated p-value is again less than the set alpha of 0.05 so we reject the null hypothesis that The new landing page does not affect customer conversion rates"
   ]
  }
 ],
 "metadata": {
  "kernelspec": {
   "display_name": "Python 3",
   "language": "python",
   "name": "python3"
  },
  "language_info": {
   "codemirror_mode": {
    "name": "ipython",
    "version": 3
   },
   "file_extension": ".py",
   "mimetype": "text/x-python",
   "name": "python",
   "nbconvert_exporter": "python",
   "pygments_lexer": "ipython3",
   "version": "3.12.3"
  }
 },
 "nbformat": 4,
 "nbformat_minor": 2
}
